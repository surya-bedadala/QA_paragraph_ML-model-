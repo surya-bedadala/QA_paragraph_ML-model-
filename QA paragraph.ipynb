{
 "cells": [
  {
   "cell_type": "code",
   "execution_count": 1,
   "id": "a7f75c13-8943-4a91-a2fa-b069e5f08ef3",
   "metadata": {},
   "outputs": [
    {
     "name": "stdout",
     "output_type": "stream",
     "text": [
      "Requirement already satisfied: torch in c:\\users\\surya\\appdata\\local\\programs\\python\\python312\\lib\\site-packages (2.8.0)\n",
      "Requirement already satisfied: filelock in c:\\users\\surya\\appdata\\local\\programs\\python\\python312\\lib\\site-packages (from torch) (3.19.1)\n",
      "Requirement already satisfied: typing-extensions>=4.10.0 in c:\\users\\surya\\appdata\\local\\programs\\python\\python312\\lib\\site-packages (from torch) (4.12.2)\n",
      "Requirement already satisfied: sympy>=1.13.3 in c:\\users\\surya\\appdata\\local\\programs\\python\\python312\\lib\\site-packages (from torch) (1.14.0)\n",
      "Requirement already satisfied: networkx in c:\\users\\surya\\appdata\\local\\programs\\python\\python312\\lib\\site-packages (from torch) (3.5)\n",
      "Requirement already satisfied: jinja2 in c:\\users\\surya\\appdata\\local\\programs\\python\\python312\\lib\\site-packages (from torch) (3.1.5)\n",
      "Requirement already satisfied: fsspec in c:\\users\\surya\\appdata\\local\\programs\\python\\python312\\lib\\site-packages (from torch) (2025.7.0)\n",
      "Requirement already satisfied: setuptools in c:\\users\\surya\\appdata\\local\\programs\\python\\python312\\lib\\site-packages (from torch) (75.8.0)\n",
      "Requirement already satisfied: mpmath<1.4,>=1.1.0 in c:\\users\\surya\\appdata\\local\\programs\\python\\python312\\lib\\site-packages (from sympy>=1.13.3->torch) (1.3.0)\n",
      "Requirement already satisfied: MarkupSafe>=2.0 in c:\\users\\surya\\appdata\\local\\programs\\python\\python312\\lib\\site-packages (from jinja2->torch) (3.0.2)\n"
     ]
    },
    {
     "name": "stderr",
     "output_type": "stream",
     "text": [
      "\n",
      "[notice] A new release of pip is available: 24.0 -> 25.2\n",
      "[notice] To update, run: python.exe -m pip install --upgrade pip\n"
     ]
    }
   ],
   "source": [
    "!pip install torch"
   ]
  },
  {
   "cell_type": "code",
   "execution_count": 4,
   "id": "f02fc04e-0f00-4380-b34d-af5ed3da16da",
   "metadata": {},
   "outputs": [
    {
     "name": "stdout",
     "output_type": "stream",
     "text": [
      "Requirement already satisfied: transformers in c:\\users\\surya\\appdata\\local\\programs\\python\\python312\\lib\\site-packages (4.55.4)"
     ]
    },
    {
     "name": "stderr",
     "output_type": "stream",
     "text": [
      "\n",
      "[notice] A new release of pip is available: 24.0 -> 25.2\n",
      "[notice] To update, run: python.exe -m pip install --upgrade pip\n"
     ]
    },
    {
     "name": "stdout",
     "output_type": "stream",
     "text": [
      "\n",
      "Requirement already satisfied: filelock in c:\\users\\surya\\appdata\\local\\programs\\python\\python312\\lib\\site-packages (from transformers) (3.19.1)\n",
      "Requirement already satisfied: huggingface-hub<1.0,>=0.34.0 in c:\\users\\surya\\appdata\\local\\programs\\python\\python312\\lib\\site-packages (from transformers) (0.34.4)\n",
      "Requirement already satisfied: numpy>=1.17 in c:\\users\\surya\\appdata\\local\\programs\\python\\python312\\lib\\site-packages (from transformers) (2.3.2)\n",
      "Requirement already satisfied: packaging>=20.0 in c:\\users\\surya\\appdata\\local\\programs\\python\\python312\\lib\\site-packages (from transformers) (24.2)\n",
      "Requirement already satisfied: pyyaml>=5.1 in c:\\users\\surya\\appdata\\local\\programs\\python\\python312\\lib\\site-packages (from transformers) (6.0.2)\n",
      "Requirement already satisfied: regex!=2019.12.17 in c:\\users\\surya\\appdata\\local\\programs\\python\\python312\\lib\\site-packages (from transformers) (2025.7.34)\n",
      "Requirement already satisfied: requests in c:\\users\\surya\\appdata\\local\\programs\\python\\python312\\lib\\site-packages (from transformers) (2.32.3)\n",
      "Requirement already satisfied: tokenizers<0.22,>=0.21 in c:\\users\\surya\\appdata\\local\\programs\\python\\python312\\lib\\site-packages (from transformers) (0.21.4)\n",
      "Requirement already satisfied: safetensors>=0.4.3 in c:\\users\\surya\\appdata\\local\\programs\\python\\python312\\lib\\site-packages (from transformers) (0.6.2)\n",
      "Requirement already satisfied: tqdm>=4.27 in c:\\users\\surya\\appdata\\local\\programs\\python\\python312\\lib\\site-packages (from transformers) (4.67.1)\n",
      "Requirement already satisfied: fsspec>=2023.5.0 in c:\\users\\surya\\appdata\\local\\programs\\python\\python312\\lib\\site-packages (from huggingface-hub<1.0,>=0.34.0->transformers) (2025.7.0)\n",
      "Requirement already satisfied: typing-extensions>=3.7.4.3 in c:\\users\\surya\\appdata\\local\\programs\\python\\python312\\lib\\site-packages (from huggingface-hub<1.0,>=0.34.0->transformers) (4.12.2)\n",
      "Requirement already satisfied: colorama in c:\\users\\surya\\appdata\\local\\programs\\python\\python312\\lib\\site-packages (from tqdm>=4.27->transformers) (0.4.6)\n",
      "Requirement already satisfied: charset-normalizer<4,>=2 in c:\\users\\surya\\appdata\\local\\programs\\python\\python312\\lib\\site-packages (from requests->transformers) (3.4.1)\n",
      "Requirement already satisfied: idna<4,>=2.5 in c:\\users\\surya\\appdata\\local\\programs\\python\\python312\\lib\\site-packages (from requests->transformers) (3.10)\n",
      "Requirement already satisfied: urllib3<3,>=1.21.1 in c:\\users\\surya\\appdata\\local\\programs\\python\\python312\\lib\\site-packages (from requests->transformers) (2.3.0)\n",
      "Requirement already satisfied: certifi>=2017.4.17 in c:\\users\\surya\\appdata\\local\\programs\\python\\python312\\lib\\site-packages (from requests->transformers) (2025.1.31)\n"
     ]
    }
   ],
   "source": []
  },
  {
   "cell_type": "code",
   "execution_count": 5,
   "id": "1af1bb55-d307-4695-8eb0-c912ba27a3bb",
   "metadata": {},
   "outputs": [
    {
     "name": "stdout",
     "output_type": "stream",
     "text": [
      "Requirement already satisfied: transformers in c:\\users\\surya\\appdata\\local\\programs\\python\\python312\\lib\\site-packages (4.55.4)\n",
      "Requirement already satisfied: filelock in c:\\users\\surya\\appdata\\local\\programs\\python\\python312\\lib\\site-packages (from transformers) (3.19.1)\n",
      "Requirement already satisfied: huggingface-hub<1.0,>=0.34.0 in c:\\users\\surya\\appdata\\local\\programs\\python\\python312\\lib\\site-packages (from transformers) (0.34.4)\n",
      "Requirement already satisfied: numpy>=1.17 in c:\\users\\surya\\appdata\\local\\programs\\python\\python312\\lib\\site-packages (from transformers) (2.3.2)\n",
      "Requirement already satisfied: packaging>=20.0 in c:\\users\\surya\\appdata\\local\\programs\\python\\python312\\lib\\site-packages (from transformers) (24.2)\n",
      "Requirement already satisfied: pyyaml>=5.1 in c:\\users\\surya\\appdata\\local\\programs\\python\\python312\\lib\\site-packages (from transformers) (6.0.2)\n",
      "Requirement already satisfied: regex!=2019.12.17 in c:\\users\\surya\\appdata\\local\\programs\\python\\python312\\lib\\site-packages (from transformers) (2025.7.34)\n",
      "Requirement already satisfied: requests in c:\\users\\surya\\appdata\\local\\programs\\python\\python312\\lib\\site-packages (from transformers) (2.32.3)\n",
      "Requirement already satisfied: tokenizers<0.22,>=0.21 in c:\\users\\surya\\appdata\\local\\programs\\python\\python312\\lib\\site-packages (from transformers) (0.21.4)\n",
      "Requirement already satisfied: safetensors>=0.4.3 in c:\\users\\surya\\appdata\\local\\programs\\python\\python312\\lib\\site-packages (from transformers) (0.6.2)\n",
      "Requirement already satisfied: tqdm>=4.27 in c:\\users\\surya\\appdata\\local\\programs\\python\\python312\\lib\\site-packages (from transformers) (4.67.1)\n",
      "Requirement already satisfied: fsspec>=2023.5.0 in c:\\users\\surya\\appdata\\local\\programs\\python\\python312\\lib\\site-packages (from huggingface-hub<1.0,>=0.34.0->transformers) (2025.7.0)\n",
      "Requirement already satisfied: typing-extensions>=3.7.4.3 in c:\\users\\surya\\appdata\\local\\programs\\python\\python312\\lib\\site-packages (from huggingface-hub<1.0,>=0.34.0->transformers) (4.12.2)\n",
      "Requirement already satisfied: colorama in c:\\users\\surya\\appdata\\local\\programs\\python\\python312\\lib\\site-packages (from tqdm>=4.27->transformers) (0.4.6)\n",
      "Requirement already satisfied: charset-normalizer<4,>=2 in c:\\users\\surya\\appdata\\local\\programs\\python\\python312\\lib\\site-packages (from requests->transformers) (3.4.1)\n",
      "Requirement already satisfied: idna<4,>=2.5 in c:\\users\\surya\\appdata\\local\\programs\\python\\python312\\lib\\site-packages (from requests->transformers) (3.10)\n",
      "Requirement already satisfied: urllib3<3,>=1.21.1 in c:\\users\\surya\\appdata\\local\\programs\\python\\python312\\lib\\site-packages (from requests->transformers) (2.3.0)\n",
      "Requirement already satisfied: certifi>=2017.4.17 in c:\\users\\surya\\appdata\\local\\programs\\python\\python312\\lib\\site-packages (from requests->transformers) (2025.1.31)\n"
     ]
    },
    {
     "name": "stderr",
     "output_type": "stream",
     "text": [
      "\n",
      "[notice] A new release of pip is available: 24.0 -> 25.2\n",
      "[notice] To update, run: python.exe -m pip install --upgrade pip\n"
     ]
    }
   ],
   "source": [
    "!pip install transformers"
   ]
  },
  {
   "cell_type": "markdown",
   "id": "2a5aefb9-3a4b-408f-943c-d543f71fef07",
   "metadata": {},
   "source": [
    "QA project using phi3 pretrained model \n"
   ]
  },
  {
   "cell_type": "markdown",
   "id": "ee62c1a3-0d7f-4ed3-a111-a5528fae3b6c",
   "metadata": {},
   "source": [
    "Importing Libraries"
   ]
  },
  {
   "cell_type": "markdown",
   "id": "4435b20f-8f8c-4ae4-9e4e-f94a1de9b5b5",
   "metadata": {},
   "source": [
    "Importing pyTourch"
   ]
  },
  {
   "cell_type": "code",
   "execution_count": 20,
   "id": "89a63d4b-04e6-4e00-a888-30bc9952d65c",
   "metadata": {},
   "outputs": [],
   "source": [
    "import torch\n",
    "from transformers import AutoModelForQuestionAnswering, AutoTokenizer"
   ]
  },
  {
   "cell_type": "code",
   "execution_count": 21,
   "id": "977ba9ef-a2fb-4a96-b34d-793e442536ab",
   "metadata": {},
   "outputs": [
    {
     "ename": "SyntaxError",
     "evalue": "invalid syntax (1130609551.py, line 1)",
     "output_type": "error",
     "traceback": [
      "\u001b[1;36m  Cell \u001b[1;32mIn[21], line 1\u001b[1;36m\u001b[0m\n\u001b[1;33m    Question Answering\u001b[0m\n\u001b[1;37m             ^\u001b[0m\n\u001b[1;31mSyntaxError\u001b[0m\u001b[1;31m:\u001b[0m invalid syntax\n"
     ]
    }
   ],
   "source": [
    "Question Answering"
   ]
  },
  {
   "cell_type": "code",
   "execution_count": 14,
   "id": "cce8ec02-5f6f-441e-b4a9-0833bc0e9b47",
   "metadata": {},
   "outputs": [],
   "source": [
    "QA_input= [{'question':'Why is sustainable planning important in urban environments?','context':\n",
    "'The increasing urbanization of the world brings with it a complex web of interconnected challenges and opportunities. As populations shift from rural to urban areas, cities must adapt to new demands for housing, infrastructure, and resources, while simultaneously navigating the economic shifts and cultural changes that rapid growth entails. This process can lead to both increased prosperity and significant social stratification, highlighting the need for sustainable planning and inclusive policies to ensure that urban environments benefit all their residents.'}]\n"
   ]
  },
  {
   "cell_type": "code",
   "execution_count": 15,
   "id": "e26d43fe-d334-41a7-9b56-fbcabd1fc94f",
   "metadata": {},
   "outputs": [],
   "source": [
    "model_name = 'deepset/roberta-base-squad2'"
   ]
  },
  {
   "cell_type": "code",
   "execution_count": 16,
   "id": "036076e5-3472-4a73-8000-2f0c4a767503",
   "metadata": {},
   "outputs": [],
   "source": [
    "model = AutoModelForQuestionAnswering.from_pretrained(model_name)\n",
    "tokenizer = AutoTokenizer.from_pretrained(model_name)"
   ]
  },
  {
   "cell_type": "code",
   "execution_count": 17,
   "id": "7851b1d0-60b8-4334-86ff-27777369b269",
   "metadata": {},
   "outputs": [],
   "source": [
    "input0 = tokenizer(QA_input[0]['question'],QA_input[0]['context'],return_tensors=\"pt\")\n",
    "output0 = model(**input0)\n"
   ]
  },
  {
   "cell_type": "code",
   "execution_count": 18,
   "id": "bd6d4676-84f0-441b-8397-e6b32aa70e4a",
   "metadata": {},
   "outputs": [
    {
     "data": {
      "text/plain": [
       "QuestionAnsweringModelOutput(loss=None, start_logits=tensor([[ 1.6068, -8.3896, -9.0751, -8.7800, -9.3117, -9.0210, -9.0926, -8.7005,\n",
       "         -9.5650, -9.8690, -9.2022, -8.5553, -0.8847, -0.8487, -2.9184, -5.9713,\n",
       "         -7.4371, -6.1099, -6.2014, -4.0220, -6.8660, -7.2175, -2.7419, -2.5882,\n",
       "         -4.8574, -7.5785, -3.4971, -4.3961, -8.0762, -5.0321, -2.4407,  1.2896,\n",
       "         -0.0997, -1.4052, -5.9718, -5.1454, -6.8732, -4.8266, -6.3504, -4.6671,\n",
       "          0.4820, -0.8225,  0.6826, -4.9031, -0.7926, -1.2133, -5.2175, -2.6181,\n",
       "         -7.1498, -3.6446, -7.3875, -6.5461, -3.6460, -6.5974, -2.6734, -1.9094,\n",
       "         -0.2690, -1.2296,  0.4170, -3.1895, -6.1978, -2.4537, -3.4133, -4.9951,\n",
       "          0.3166, -3.4338, -5.0647, -2.4407,  2.3227,  0.2663,  1.7256,  1.1273,\n",
       "         -2.7316,  0.5949,  2.8050, -1.0680, -4.1074,  0.6027,  0.3056, -2.5167,\n",
       "         -3.8995, -4.6277,  0.1443, -0.5425, -1.7512, -4.4229, -0.9118, -3.7472,\n",
       "         -4.2732, -0.4780, -2.6608,  3.5294,  2.4108, -0.1420,  2.7111, -0.0658,\n",
       "          3.1841, -1.6246, -3.8090, -1.5783, -2.4407, -8.7613]],\n",
       "       grad_fn=<CloneBackward0>), end_logits=tensor([[ 2.0650, -8.6675, -8.7053, -9.0218, -8.3865, -8.3709, -8.8826, -8.9614,\n",
       "         -7.3421, -6.0120, -4.0415, -2.4033, -6.3813, -3.9304, -6.6258, -0.4133,\n",
       "         -6.1949, -6.6271, -1.2798, -6.1378, -7.4883, -3.0093, -6.8317, -5.8588,\n",
       "         -4.5728, -6.4437, -4.4460, -2.8715, -6.9634, -0.8932,  3.5422, -5.2029,\n",
       "         -3.9514, -2.4685, -5.9629, -3.3021, -5.6574, -2.3197,  0.5120, -2.2695,\n",
       "         -4.7262, -5.4878, -2.5055, -4.1304, -5.0286, -0.5814, -4.7687, -0.6016,\n",
       "         -5.5226, -0.8460, -5.1870, -5.7484,  1.4421, -0.1328, -5.3038, -5.2436,\n",
       "         -4.3132, -5.6866, -4.2621, -0.7065, -6.6350, -4.6124,  0.6930, -5.3461,\n",
       "         -5.2005,  0.0608,  1.7607,  3.5422, -4.6929, -3.8635, -4.7924, -4.0036,\n",
       "         -4.1340, -4.8681, -3.6373,  2.3544, -4.2839, -4.4500, -3.8062, -3.0418,\n",
       "          4.0986,  0.3147, -3.1821, -5.8894, -2.7470, -5.1546, -5.0082, -2.3080,\n",
       "         -6.1793, -3.3706,  0.5379, -3.1038, -1.6883, -3.9616, -3.7460, -1.6052,\n",
       "         -0.9620, -1.1423, -2.6905,  6.2312,  3.5421, -3.4274]],\n",
       "       grad_fn=<CloneBackward0>), hidden_states=None, attentions=None)"
      ]
     },
     "execution_count": 18,
     "metadata": {},
     "output_type": "execute_result"
    }
   ],
   "source": [
    "output0"
   ]
  },
  {
   "cell_type": "code",
   "execution_count": 19,
   "id": "4e649c07-6f06-4448-9dba-0245358874cd",
   "metadata": {},
   "outputs": [
    {
     "name": "stdout",
     "output_type": "stream",
     "text": [
      "ques:Why is sustainable planning important in urban environments?\n",
      "answer: to ensure that urban environments benefit all their residents\n"
     ]
    }
   ],
   "source": [
    "answer_start_idx = torch.argmax(output0.start_logits)\n",
    "answer_end_idx  = torch.argmax(output0.end_logits)\n",
    "\n",
    "answer_tokens = input0.input_ids[0,answer_start_idx:answer_end_idx + 1]\n",
    "answer = tokenizer.decode(answer_tokens)\n",
    "print(\"ques:{}\\nanswer:{}\".format(QA_input[0]['question'],answer))"
   ]
  },
  {
   "cell_type": "code",
   "execution_count": null,
   "id": "72f37d2b-62d1-4594-887a-73a3b13568b6",
   "metadata": {},
   "outputs": [],
   "source": []
  },
  {
   "cell_type": "code",
   "execution_count": null,
   "id": "19274a38-92c9-45fe-8bda-72f9eb6a935b",
   "metadata": {},
   "outputs": [],
   "source": []
  },
  {
   "cell_type": "code",
   "execution_count": null,
   "id": "013b3641-0918-404e-8382-49a78626c927",
   "metadata": {},
   "outputs": [],
   "source": []
  }
 ],
 "metadata": {
  "kernelspec": {
   "display_name": "Python 3 (ipykernel)",
   "language": "python",
   "name": "python3"
  },
  "language_info": {
   "codemirror_mode": {
    "name": "ipython",
    "version": 3
   },
   "file_extension": ".py",
   "mimetype": "text/x-python",
   "name": "python",
   "nbconvert_exporter": "python",
   "pygments_lexer": "ipython3",
   "version": "3.12.3"
  }
 },
 "nbformat": 4,
 "nbformat_minor": 5
}
